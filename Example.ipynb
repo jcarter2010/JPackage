{
 "cells": [
  {
   "cell_type": "markdown",
   "metadata": {},
   "source": [
    "# Package basics"
   ]
  },
  {
   "cell_type": "markdown",
   "metadata": {},
   "source": [
    "To start off with, one must import the desired module from JPackage. To do this, follow the normal Python importing method."
   ]
  },
  {
   "cell_type": "code",
   "execution_count": 1,
   "metadata": {
    "collapsed": false
   },
   "outputs": [],
   "source": [
    "from JPackage import JPRelativity\n",
    "from JPackage import JPAstro\n",
    "from JPackage import JPMath"
   ]
  },
  {
   "cell_type": "markdown",
   "metadata": {},
   "source": [
    "The physics modules have two main classes, Equations, and Constants.  Equations allows the programmer to solve a set of equations pertaining to that field, while Constants is a collection of constants that also pertain to said field and are used in the equation solving.  To use either, one must first instantiate an object of the class."
   ]
  },
  {
   "cell_type": "code",
   "execution_count": 2,
   "metadata": {
    "collapsed": false,
    "scrolled": false
   },
   "outputs": [],
   "source": [
    "astro_consts = JPAstro.Constants()\n",
    "relativity_eqs = JPRelativity.Equations()"
   ]
  },
  {
   "cell_type": "markdown",
   "metadata": {},
   "source": [
    "In order to see what is contained in the constants class, a user can run the following command:"
   ]
  },
  {
   "cell_type": "code",
   "execution_count": 3,
   "metadata": {
    "collapsed": false
   },
   "outputs": [
    {
     "name": "stdout",
     "output_type": "stream",
     "text": [
      "c = 3.0 * math.pow(10, 8) #speed of light in a vacuum [m/s]\n",
      "h = 6.63 * math.pow(10, -34) #Planck's constant [J*s]\n",
      "k = 1.38 * math.pow(10, -23) #Boltzmann's constant [J/K]\n",
      "G = 6.67 * math.pow(10, -11) #gravitational constant [m^3/(s^2kg)]\n",
      "g = 9.81 #gravitational acceleration near the surface of the Earth [m/s^2]\n",
      "M_Sun = 2 * math.pow(10, 30) #mass of the Sun [kg]\n",
      "L_Sun = 3.85 * math.pow(10, 26) #luminosity of the Sun [W]\n",
      "D_Sun = 1.496 * math.pow(10, 11) #Distance from the Earth to the Sun [m]\n",
      "R_Sun = 6.96 * math.pow(10, 8) #radius of the Sun [m];\n",
      "T_Sun = 5.8 * math.pow(10, 3) #temperature of the Sun [K]\n",
      "m_hydrogen = 1.67 * math.pow(10, -27) #mass of a hydrogen atom [kg]\n",
      "M_Earth = 5.97 * math.pow(10, 24) #mass of the Earth [kg]\n",
      "R_Earth = 6.37 * math.pow(10, 6) #radius of the Earth [m]\n",
      "sigma_S_B = 5.67 * math.pow(10, -8) #Stephan-Boltzmann constant [W/(m^2*K^4)]\n",
      "H_0 = 7.0 * math.pow(10, 1) #Hubble constant [km/s]\n",
      "\n"
     ]
    }
   ],
   "source": [
    "astro_consts.Var_Help()"
   ]
  },
  {
   "cell_type": "markdown",
   "metadata": {},
   "source": [
    "Furthermore, a user can use the same command with the Equations object in order to see the documentation on every equation that can be solved for with said object."
   ]
  },
  {
   "cell_type": "code",
   "execution_count": 4,
   "metadata": {
    "collapsed": false
   },
   "outputs": [
    {
     "name": "stdout",
     "output_type": "stream",
     "text": [
      "gamma = 1 / sqrt(1 - v^2 / c^2)\n",
      "  gamma = gamma factor used in scaling in special relativity, v = speed of the craft\n",
      "  If solving for:\n",
      "    gamma -- takes v\n",
      "    v -- takes gamma\n",
      "beta = v^2 / c^2\n",
      "  beta = velocity scaling factor in special relativity, v = speed of the craft\n",
      "  If solving for:\n",
      "    beta -- takes v\n",
      "    v -- takes beta\n",
      "t_prime = gamma t\n",
      "  t_prime = proper time dilation in special relativity, t = proper time between frames on the craft, gamma = scaling factor\n",
      "  If solving for:\n",
      "    t_prime -- takes t, gamma\n",
      "    t -- takes t_prime, gamma\n",
      "    gamma -- takes t_prime, t\n",
      "l_prime = l / gamma\n",
      "  l_prime = contracted proper length of a craft in special relativity, l = proper length, gamma = scaling factor\n",
      "  If solving for:\n",
      "    l_prime -- takes l, gamma\n",
      "    l -- takes l_prime, gamma\n",
      "    gamma -- takes l_prime, l\n",
      "x_prime = gamma(x - v t)\n",
      "  x_prime = contracted length of the craft, x = length of the craft in rest frame, t = time between frames, v = speed of the craft\n",
      "  If solving for:\n",
      "    x_prime -- takes x, v, t\n",
      "    x -- takes x_prime, v, t\n",
      "    v -- takes x_prime, x, t\n",
      "    t -- takse x_prime, x, v\n",
      "t_prime = gamma(t - v x / c^2)\n",
      "  t_prime = dilated time for the craft, t = time between frames, v = speed of the craft, x = length of the craft\n",
      "  If solving for:\n",
      "    t_prime -- takes t, v, x\n",
      "    t -- t_prime, v, x\n",
      "    v -- t_prime, t, x\n",
      "    x -- t_prime, t, v\n",
      "V_prime_par = (V_par - v) / (1 - (V_par v / c^2))\n",
      "  V_prime_par = added velocity in the parallel direction to movement, V_par = original parallel velocity, v = velocity to add\n",
      "  If sovling for:\n",
      "    V_prime_par -- takse V_par, v\n",
      "    V_par -- takes V_prime_par, v\n",
      "    v -- takes V_prime_par, V_par\n",
      "V_prime_perp = V_perp / (gamma(1 - (V_par v / c^2)))\n",
      "  V_prime_perp = added velocity in the perpendicular direction to movement, V_perp = original perpendicular velocity, V_par = original parallel velocity, v = velocity to add\n",
      "  If sovling for:\n",
      "    V_prime_perp -- takse V_perp, V_par, v\n",
      "    V_perp -- takes V_prime_perp, V_par, v\n",
      "    V_par -- takes V_prime_perp, V_perp, v\n",
      "z = v (sqrt(1 - beta))/(sqrt(1 + beta))\n",
      "  z = Doppler redshift in motion towards or away from observer, v = velocity of craft\n",
      "  If solving for:\n",
      "    z -- takes v\n",
      "    v -- takes z\n",
      "z = gamma v\n",
      "  z = Doppler redshift in motion perpendicular to observer, v = velocity of craft\n",
      "  If solving for:\n",
      "    z -- takes v\n",
      "    v -- takes z\n",
      "E = m c^2\n",
      "  E = energy from mass, m = mass of object\n",
      "  If solving for:\n",
      "    E -- takes m\n",
      "    m -- takse E\n",
      "\n"
     ]
    }
   ],
   "source": [
    "relativity_eqs.Var_Help()"
   ]
  },
  {
   "cell_type": "markdown",
   "metadata": {},
   "source": [
    "To make sense of all of this, the user can then run the following command to see a list of equations that can be solved for with the Equations object:"
   ]
  },
  {
   "cell_type": "code",
   "execution_count": 5,
   "metadata": {
    "collapsed": false
   },
   "outputs": [
    {
     "name": "stdout",
     "output_type": "stream",
     "text": [
      "gamma = 1 / sqrt(1 - v^2 / c^2)\n",
      "beta = v^2 / c^2\n",
      "t_prime = gamma t\n",
      "l_prime = l / gamma\n",
      "x_prime = gamma(x - v t)\n",
      "t_prime = gamma(t - v x / c^2)\n",
      "V_prime_par = (V_par - v) / (1 - (V_par v / c^2))\n",
      "V_prime_perp = V_perp / (gamma(1 - (V_par v / c^2)))\n",
      "z = v (sqrt(1 - beta))/(sqrt(1 + beta))\n",
      "z = gamma v\n",
      "E = m c^2\n",
      "\n"
     ]
    }
   ],
   "source": [
    "relativity_eqs.Eq_Help()"
   ]
  },
  {
   "cell_type": "markdown",
   "metadata": {},
   "source": [
    "# Physics Package Use"
   ]
  },
  {
   "cell_type": "markdown",
   "metadata": {},
   "source": [
    "The usage of the constants class is the exact same as using a variable.  For example:"
   ]
  },
  {
   "cell_type": "code",
   "execution_count": 6,
   "metadata": {
    "collapsed": false
   },
   "outputs": [
    {
     "name": "stdout",
     "output_type": "stream",
     "text": [
      "0.1111111111111111\n"
     ]
    }
   ],
   "source": [
    "v = 1 * 10 ** 8\n",
    "beta = v ** 2 / astro_consts.c ** 2\n",
    "print(beta)"
   ]
  },
  {
   "cell_type": "markdown",
   "metadata": {},
   "source": [
    "The use of the Equations object is a little bit more complex.  The programmer will use the 'Solve_Equation' function, which takes in an equation, the variable to solve for, and any values that need to be passed in.  This is all according to the output of 'relativity_eqs.Var_Help()'. For example, with the 'beta = v^2 / c^2' equation, the documentation gives us the following:  \n",
    "  \n",
    "$\\hspace{1cm}$beta = v^2 / c^2  \n",
    "$\\hspace{1.5cm}$  beta = velocity scaling factor in special relativity, v = speed of the craft  \n",
    "$\\hspace{1.5cm}$  If solving for:  \n",
    "$\\hspace{2cm}$    beta -- takes v  \n",
    "$\\hspace{2cm}$    v -- takes beta  \n",
    "  \n",
    "This will give us all of the information that we need in order to run the function.  Since we are solving for $\\beta$ in the following example code, the documentation tells us that the function takes the variable $v$ as the final input paramater.  Therefore, the code is:"
   ]
  },
  {
   "cell_type": "code",
   "execution_count": 7,
   "metadata": {
    "collapsed": false
   },
   "outputs": [
    {
     "name": "stdout",
     "output_type": "stream",
     "text": [
      "0.1111111111111111\n"
     ]
    }
   ],
   "source": [
    "v = 1 * 10 ** 8\n",
    "beta = relativity_eqs.Solve_Equation('beta = v^2 / c^2', 'beta', v)\n",
    "print(beta)"
   ]
  },
  {
   "cell_type": "markdown",
   "metadata": {},
   "source": [
    "# JPMath, JPEuclidean, JPNonEuclidean"
   ]
  },
  {
   "cell_type": "markdown",
   "metadata": {},
   "source": [
    "JPMath, JPEuclidean, and JPNonEuclidean are slightly different.  They consists of multiple classes, each pertaining to a different construct within mathematics."
   ]
  },
  {
   "cell_type": "markdown",
   "metadata": {},
   "source": [
    "## JPMath"
   ]
  },
  {
   "cell_type": "markdown",
   "metadata": {},
   "source": [
    "JPmath contains a **_MonteCarloIntegration_**, **_VectorN_**, **_Vector3_**, **_Vector2_**, and **_Matrix_** class. Currently, the **_Matrix_** class is strictly a 4x4 matrix.  Import the module using the following code."
   ]
  },
  {
   "cell_type": "code",
   "execution_count": 8,
   "metadata": {
    "collapsed": true
   },
   "outputs": [],
   "source": [
    "from JPackage import JPMath"
   ]
  },
  {
   "cell_type": "markdown",
   "metadata": {},
   "source": [
    "### MonteCarloIntegration"
   ]
  },
  {
   "cell_type": "markdown",
   "metadata": {},
   "source": [
    "The **_MonteCarloIntegration_** class is designed to get the area under a curve, however it is not exact and can return wildly inaccurate results as it is based off of random guesses, so use with caution.  The returned value will be approximate, as showcased by the following code.  The class is used in the following manner:"
   ]
  },
  {
   "cell_type": "code",
   "execution_count": 9,
   "metadata": {
    "collapsed": false
   },
   "outputs": [
    {
     "name": "stdout",
     "output_type": "stream",
     "text": [
      "0.0236403476588265\n"
     ]
    }
   ],
   "source": [
    "mci = JPMath.MonteCarloIntegration()\n",
    "\n",
    "print(mci.Integrate('y = x', 10000, {'x' : -1}, {'x' : 1}, {'x' : 0.1}))"
   ]
  },
  {
   "cell_type": "markdown",
   "metadata": {
    "collapsed": true
   },
   "source": [
    "The function takes values in in the format:  \n",
    "```python\n",
    "Integrate(f, n, init_vals, end_vals, deltas)  \n",
    "```\n",
    "The equation should be input in the form: \n",
    "```python\n",
    "z = x * y + 6\n",
    "```\n",
    "with spaces between each character so if one has the variables $x$, $y$, and $xy$, then they would input:  \n",
    "```python\n",
    "z = x * y + xy\n",
    "```\n",
    "If a number can be negative on the right hand side of the equation, then it has to be encased in parenthesis such as with the following code:\n",
    "```python\n",
    "z = 1 - ( x ) ** 2\n",
    "```\n",
    "If the bounds go from $-l$ to $m$ for $x$. It's just a quirk that I found with the **eval** function, not sure why it needs it to be this way. *f* is the function to integrate, *n* is the number of random points to take, *init_vals* is a dictionary with the keys being the variable names and the values being the inital values of the variable, *end_vals* is the ending bounds of the funciton in the integration in the same dictionary format, and *deltas* is the the change in value for each of the independant coordinates.  For example, it would be\n",
    "```python\n",
    "{'x' : 0.1}\n",
    "```\n",
    "for the equation $y = m * x + b$ with 0.1 being $dx$.\n"
   ]
  },
  {
   "cell_type": "markdown",
   "metadata": {
    "collapsed": true
   },
   "source": [
    "### Vectors"
   ]
  },
  {
   "cell_type": "markdown",
   "metadata": {
    "collapsed": true
   },
   "source": [
    "The JPMath module contains three vector classes, **_VectorN_**, **_Vector2_** and **_Vector3_**."
   ]
  },
  {
   "cell_type": "markdown",
   "metadata": {},
   "source": [
    "#### VectorN"
   ]
  },
  {
   "cell_type": "markdown",
   "metadata": {},
   "source": [
    "The **_VectorN_** class is an $n$-dimensional vector class.  It takes in a list of values to act as points, and then is able to do multiple things with said points. To see all of the available functions and variables within the **_VectorN_** class, run the following command:"
   ]
  },
  {
   "cell_type": "code",
   "execution_count": null,
   "metadata": {
    "collapsed": false
   },
   "outputs": [],
   "source": [
    "vectn = JPMath.VectorN([0])\n",
    "\n",
    "vectn.Help()"
   ]
  },
  {
   "cell_type": "code",
   "execution_count": null,
   "metadata": {
    "collapsed": true
   },
   "outputs": [],
   "source": []
  }
 ],
 "metadata": {
  "kernelspec": {
   "display_name": "Python 3",
   "language": "python",
   "name": "python3"
  },
  "language_info": {
   "codemirror_mode": {
    "name": "ipython",
    "version": 3
   },
   "file_extension": ".py",
   "mimetype": "text/x-python",
   "name": "python",
   "nbconvert_exporter": "python",
   "pygments_lexer": "ipython3",
   "version": "3.5.2"
  }
 },
 "nbformat": 4,
 "nbformat_minor": 0
}
